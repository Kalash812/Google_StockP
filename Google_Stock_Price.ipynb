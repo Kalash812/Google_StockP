{
 "cells": [
  {
   "cell_type": "code",
   "execution_count": 28,
   "metadata": {},
   "outputs": [],
   "source": [
    "import pandas_datareader as pdr\n",
    "dataset = pdr.get_data_tiingo('GOOG', api_key='16f81265f26de1c59c164946e68d68f8b728fd10')"
   ]
  },
  {
   "cell_type": "code",
   "execution_count": 29,
   "metadata": {},
   "outputs": [
    {
     "data": {
      "text/html": [
       "<div>\n",
       "<style scoped>\n",
       "    .dataframe tbody tr th:only-of-type {\n",
       "        vertical-align: middle;\n",
       "    }\n",
       "\n",
       "    .dataframe tbody tr th {\n",
       "        vertical-align: top;\n",
       "    }\n",
       "\n",
       "    .dataframe thead th {\n",
       "        text-align: right;\n",
       "    }\n",
       "</style>\n",
       "<table border=\"1\" class=\"dataframe\">\n",
       "  <thead>\n",
       "    <tr style=\"text-align: right;\">\n",
       "      <th></th>\n",
       "      <th></th>\n",
       "      <th>close</th>\n",
       "      <th>high</th>\n",
       "      <th>low</th>\n",
       "      <th>open</th>\n",
       "      <th>volume</th>\n",
       "      <th>adjClose</th>\n",
       "      <th>adjHigh</th>\n",
       "      <th>adjLow</th>\n",
       "      <th>adjOpen</th>\n",
       "      <th>adjVolume</th>\n",
       "      <th>divCash</th>\n",
       "      <th>splitFactor</th>\n",
       "    </tr>\n",
       "    <tr>\n",
       "      <th>symbol</th>\n",
       "      <th>date</th>\n",
       "      <th></th>\n",
       "      <th></th>\n",
       "      <th></th>\n",
       "      <th></th>\n",
       "      <th></th>\n",
       "      <th></th>\n",
       "      <th></th>\n",
       "      <th></th>\n",
       "      <th></th>\n",
       "      <th></th>\n",
       "      <th></th>\n",
       "      <th></th>\n",
       "    </tr>\n",
       "  </thead>\n",
       "  <tbody>\n",
       "    <tr>\n",
       "      <th rowspan=\"5\" valign=\"top\">GOOG</th>\n",
       "      <th>2021-05-21 00:00:00+00:00</th>\n",
       "      <td>2345.10</td>\n",
       "      <td>2368.9999</td>\n",
       "      <td>2342.370</td>\n",
       "      <td>2365.990</td>\n",
       "      <td>1141632</td>\n",
       "      <td>2345.10</td>\n",
       "      <td>2368.9999</td>\n",
       "      <td>2342.370</td>\n",
       "      <td>2365.990</td>\n",
       "      <td>1141632</td>\n",
       "      <td>0.0</td>\n",
       "      <td>1.0</td>\n",
       "    </tr>\n",
       "    <tr>\n",
       "      <th>2021-05-24 00:00:00+00:00</th>\n",
       "      <td>2406.67</td>\n",
       "      <td>2418.4800</td>\n",
       "      <td>2360.110</td>\n",
       "      <td>2367.000</td>\n",
       "      <td>1062189</td>\n",
       "      <td>2406.67</td>\n",
       "      <td>2418.4800</td>\n",
       "      <td>2360.110</td>\n",
       "      <td>2367.000</td>\n",
       "      <td>1062189</td>\n",
       "      <td>0.0</td>\n",
       "      <td>1.0</td>\n",
       "    </tr>\n",
       "    <tr>\n",
       "      <th>2021-05-25 00:00:00+00:00</th>\n",
       "      <td>2409.07</td>\n",
       "      <td>2432.8900</td>\n",
       "      <td>2402.990</td>\n",
       "      <td>2420.000</td>\n",
       "      <td>941928</td>\n",
       "      <td>2409.07</td>\n",
       "      <td>2432.8900</td>\n",
       "      <td>2402.990</td>\n",
       "      <td>2420.000</td>\n",
       "      <td>941928</td>\n",
       "      <td>0.0</td>\n",
       "      <td>1.0</td>\n",
       "    </tr>\n",
       "    <tr>\n",
       "      <th>2021-05-26 00:00:00+00:00</th>\n",
       "      <td>2433.53</td>\n",
       "      <td>2442.9440</td>\n",
       "      <td>2412.515</td>\n",
       "      <td>2412.835</td>\n",
       "      <td>1092819</td>\n",
       "      <td>2433.53</td>\n",
       "      <td>2442.9440</td>\n",
       "      <td>2412.515</td>\n",
       "      <td>2412.835</td>\n",
       "      <td>1092819</td>\n",
       "      <td>0.0</td>\n",
       "      <td>1.0</td>\n",
       "    </tr>\n",
       "    <tr>\n",
       "      <th>2021-05-27 00:00:00+00:00</th>\n",
       "      <td>2402.51</td>\n",
       "      <td>2440.0000</td>\n",
       "      <td>2402.000</td>\n",
       "      <td>2436.940</td>\n",
       "      <td>1948113</td>\n",
       "      <td>2402.51</td>\n",
       "      <td>2440.0000</td>\n",
       "      <td>2402.000</td>\n",
       "      <td>2436.940</td>\n",
       "      <td>1948113</td>\n",
       "      <td>0.0</td>\n",
       "      <td>1.0</td>\n",
       "    </tr>\n",
       "  </tbody>\n",
       "</table>\n",
       "</div>"
      ],
      "text/plain": [
       "                                    close       high       low      open  \\\n",
       "symbol date                                                                \n",
       "GOOG   2021-05-21 00:00:00+00:00  2345.10  2368.9999  2342.370  2365.990   \n",
       "       2021-05-24 00:00:00+00:00  2406.67  2418.4800  2360.110  2367.000   \n",
       "       2021-05-25 00:00:00+00:00  2409.07  2432.8900  2402.990  2420.000   \n",
       "       2021-05-26 00:00:00+00:00  2433.53  2442.9440  2412.515  2412.835   \n",
       "       2021-05-27 00:00:00+00:00  2402.51  2440.0000  2402.000  2436.940   \n",
       "\n",
       "                                   volume  adjClose    adjHigh    adjLow  \\\n",
       "symbol date                                                                \n",
       "GOOG   2021-05-21 00:00:00+00:00  1141632   2345.10  2368.9999  2342.370   \n",
       "       2021-05-24 00:00:00+00:00  1062189   2406.67  2418.4800  2360.110   \n",
       "       2021-05-25 00:00:00+00:00   941928   2409.07  2432.8900  2402.990   \n",
       "       2021-05-26 00:00:00+00:00  1092819   2433.53  2442.9440  2412.515   \n",
       "       2021-05-27 00:00:00+00:00  1948113   2402.51  2440.0000  2402.000   \n",
       "\n",
       "                                   adjOpen  adjVolume  divCash  splitFactor  \n",
       "symbol date                                                                  \n",
       "GOOG   2021-05-21 00:00:00+00:00  2365.990    1141632      0.0          1.0  \n",
       "       2021-05-24 00:00:00+00:00  2367.000    1062189      0.0          1.0  \n",
       "       2021-05-25 00:00:00+00:00  2420.000     941928      0.0          1.0  \n",
       "       2021-05-26 00:00:00+00:00  2412.835    1092819      0.0          1.0  \n",
       "       2021-05-27 00:00:00+00:00  2436.940    1948113      0.0          1.0  "
      ]
     },
     "execution_count": 29,
     "metadata": {},
     "output_type": "execute_result"
    }
   ],
   "source": [
    "dataset.tail()"
   ]
  },
  {
   "cell_type": "code",
   "execution_count": 30,
   "metadata": {},
   "outputs": [],
   "source": [
    "dataset.to_csv('GOOG.csv')"
   ]
  },
  {
   "cell_type": "code",
   "execution_count": 31,
   "metadata": {},
   "outputs": [],
   "source": [
    "import pandas as pd"
   ]
  },
  {
   "cell_type": "code",
   "execution_count": 32,
   "metadata": {},
   "outputs": [],
   "source": [
    "df = pd.read_csv('GOOG.csv')"
   ]
  },
  {
   "cell_type": "code",
   "execution_count": 49,
   "metadata": {},
   "outputs": [
    {
     "data": {
      "text/html": [
       "<div>\n",
       "<style scoped>\n",
       "    .dataframe tbody tr th:only-of-type {\n",
       "        vertical-align: middle;\n",
       "    }\n",
       "\n",
       "    .dataframe tbody tr th {\n",
       "        vertical-align: top;\n",
       "    }\n",
       "\n",
       "    .dataframe thead th {\n",
       "        text-align: right;\n",
       "    }\n",
       "</style>\n",
       "<table border=\"1\" class=\"dataframe\">\n",
       "  <thead>\n",
       "    <tr style=\"text-align: right;\">\n",
       "      <th></th>\n",
       "      <th>symbol</th>\n",
       "      <th>date</th>\n",
       "      <th>close</th>\n",
       "      <th>high</th>\n",
       "      <th>low</th>\n",
       "      <th>open</th>\n",
       "      <th>volume</th>\n",
       "      <th>adjClose</th>\n",
       "      <th>adjHigh</th>\n",
       "      <th>adjLow</th>\n",
       "      <th>adjOpen</th>\n",
       "      <th>adjVolume</th>\n",
       "      <th>divCash</th>\n",
       "      <th>splitFactor</th>\n",
       "    </tr>\n",
       "  </thead>\n",
       "  <tbody>\n",
       "    <tr>\n",
       "      <th>1253</th>\n",
       "      <td>GOOG</td>\n",
       "      <td>2021-05-21 00:00:00+00:00</td>\n",
       "      <td>2345.10</td>\n",
       "      <td>2368.9999</td>\n",
       "      <td>2342.370</td>\n",
       "      <td>2365.990</td>\n",
       "      <td>1141632</td>\n",
       "      <td>2345.10</td>\n",
       "      <td>2368.9999</td>\n",
       "      <td>2342.370</td>\n",
       "      <td>2365.990</td>\n",
       "      <td>1141632</td>\n",
       "      <td>0.0</td>\n",
       "      <td>1.0</td>\n",
       "    </tr>\n",
       "    <tr>\n",
       "      <th>1254</th>\n",
       "      <td>GOOG</td>\n",
       "      <td>2021-05-24 00:00:00+00:00</td>\n",
       "      <td>2406.67</td>\n",
       "      <td>2418.4800</td>\n",
       "      <td>2360.110</td>\n",
       "      <td>2367.000</td>\n",
       "      <td>1062189</td>\n",
       "      <td>2406.67</td>\n",
       "      <td>2418.4800</td>\n",
       "      <td>2360.110</td>\n",
       "      <td>2367.000</td>\n",
       "      <td>1062189</td>\n",
       "      <td>0.0</td>\n",
       "      <td>1.0</td>\n",
       "    </tr>\n",
       "    <tr>\n",
       "      <th>1255</th>\n",
       "      <td>GOOG</td>\n",
       "      <td>2021-05-25 00:00:00+00:00</td>\n",
       "      <td>2409.07</td>\n",
       "      <td>2432.8900</td>\n",
       "      <td>2402.990</td>\n",
       "      <td>2420.000</td>\n",
       "      <td>941928</td>\n",
       "      <td>2409.07</td>\n",
       "      <td>2432.8900</td>\n",
       "      <td>2402.990</td>\n",
       "      <td>2420.000</td>\n",
       "      <td>941928</td>\n",
       "      <td>0.0</td>\n",
       "      <td>1.0</td>\n",
       "    </tr>\n",
       "    <tr>\n",
       "      <th>1256</th>\n",
       "      <td>GOOG</td>\n",
       "      <td>2021-05-26 00:00:00+00:00</td>\n",
       "      <td>2433.53</td>\n",
       "      <td>2442.9440</td>\n",
       "      <td>2412.515</td>\n",
       "      <td>2412.835</td>\n",
       "      <td>1092819</td>\n",
       "      <td>2433.53</td>\n",
       "      <td>2442.9440</td>\n",
       "      <td>2412.515</td>\n",
       "      <td>2412.835</td>\n",
       "      <td>1092819</td>\n",
       "      <td>0.0</td>\n",
       "      <td>1.0</td>\n",
       "    </tr>\n",
       "    <tr>\n",
       "      <th>1257</th>\n",
       "      <td>GOOG</td>\n",
       "      <td>2021-05-27 00:00:00+00:00</td>\n",
       "      <td>2402.51</td>\n",
       "      <td>2440.0000</td>\n",
       "      <td>2402.000</td>\n",
       "      <td>2436.940</td>\n",
       "      <td>1948113</td>\n",
       "      <td>2402.51</td>\n",
       "      <td>2440.0000</td>\n",
       "      <td>2402.000</td>\n",
       "      <td>2436.940</td>\n",
       "      <td>1948113</td>\n",
       "      <td>0.0</td>\n",
       "      <td>1.0</td>\n",
       "    </tr>\n",
       "  </tbody>\n",
       "</table>\n",
       "</div>"
      ],
      "text/plain": [
       "     symbol                       date    close       high       low  \\\n",
       "1253   GOOG  2021-05-21 00:00:00+00:00  2345.10  2368.9999  2342.370   \n",
       "1254   GOOG  2021-05-24 00:00:00+00:00  2406.67  2418.4800  2360.110   \n",
       "1255   GOOG  2021-05-25 00:00:00+00:00  2409.07  2432.8900  2402.990   \n",
       "1256   GOOG  2021-05-26 00:00:00+00:00  2433.53  2442.9440  2412.515   \n",
       "1257   GOOG  2021-05-27 00:00:00+00:00  2402.51  2440.0000  2402.000   \n",
       "\n",
       "          open   volume  adjClose    adjHigh    adjLow   adjOpen  adjVolume  \\\n",
       "1253  2365.990  1141632   2345.10  2368.9999  2342.370  2365.990    1141632   \n",
       "1254  2367.000  1062189   2406.67  2418.4800  2360.110  2367.000    1062189   \n",
       "1255  2420.000   941928   2409.07  2432.8900  2402.990  2420.000     941928   \n",
       "1256  2412.835  1092819   2433.53  2442.9440  2412.515  2412.835    1092819   \n",
       "1257  2436.940  1948113   2402.51  2440.0000  2402.000  2436.940    1948113   \n",
       "\n",
       "      divCash  splitFactor  \n",
       "1253      0.0          1.0  \n",
       "1254      0.0          1.0  \n",
       "1255      0.0          1.0  \n",
       "1256      0.0          1.0  \n",
       "1257      0.0          1.0  "
      ]
     },
     "execution_count": 49,
     "metadata": {},
     "output_type": "execute_result"
    }
   ],
   "source": [
    "df.tail()"
   ]
  },
  {
   "cell_type": "code",
   "execution_count": 34,
   "metadata": {},
   "outputs": [
    {
     "data": {
      "text/plain": [
       "(1258,)"
      ]
     },
     "execution_count": 34,
     "metadata": {},
     "output_type": "execute_result"
    }
   ],
   "source": [
    "df1 = df['close']\n",
    "df1.shape"
   ]
  },
  {
   "cell_type": "code",
   "execution_count": 35,
   "metadata": {},
   "outputs": [],
   "source": [
    "import matplotlib.pyplot as plt"
   ]
  },
  {
   "cell_type": "code",
   "execution_count": 36,
   "metadata": {},
   "outputs": [
    {
     "data": {
      "text/plain": [
       "[<matplotlib.lines.Line2D at 0x7fc504732eb0>]"
      ]
     },
     "execution_count": 36,
     "metadata": {},
     "output_type": "execute_result"
    },
    {
     "data": {
      "image/png": "[encoded data removed]",
      "text/plain": [
       "<Figure size 432x288 with 1 Axes>"
      ]
     },
     "metadata": {
      "needs_background": "light"
     },
     "output_type": "display_data"
    }
   ],
   "source": [
    "plt.plot(df1)"
   ]
  },
  {
   "cell_type": "code",
   "execution_count": 37,
   "metadata": {},
   "outputs": [],
   "source": [
    "import numpy as np\n",
    "from sklearn.preprocessing import MinMaxScaler"
   ]
  },
  {
   "cell_type": "code",
   "execution_count": 38,
   "metadata": {},
   "outputs": [],
   "source": [
    "scalar = MinMaxScaler()\n",
    "df1 = np.array(df1).reshape(-1,1)"
   ]
  },
  {
   "cell_type": "code",
   "execution_count": 39,
   "metadata": {},
   "outputs": [
    {
     "data": {
      "text/plain": [
       "(1258, 1)"
      ]
     },
     "execution_count": 39,
     "metadata": {},
     "output_type": "execute_result"
    }
   ],
   "source": [
    "df1 = scalar.fit_transform(df1)\n",
    "df1.shape"
   ]
  },
  {
   "cell_type": "code",
   "execution_count": 40,
   "metadata": {},
   "outputs": [],
   "source": [
    "from sklearn.model_selection import train_test_split\n",
    "train_data , test_data = train_test_split(df1, random_state = 0 , train_size = 0.8)\n"
   ]
  },
  {
   "cell_type": "code",
   "execution_count": 41,
   "metadata": {},
   "outputs": [],
   "source": [
    "def create_dataset(dataset , time_step=1):\n",
    "    data_X = []\n",
    "    data_y = []\n",
    "    for i in range (len(dataset)-time_step-1):\n",
    "        data_X.append(dataset[i:(time_step+i) , 0])\n",
    "        data_y.append(dataset[i+time_step , 0])\n",
    "    return np.array(data_X , dtype=\"object\") , np.array(data_y , dtype=\"object\")    "
   ]
  },
  {
   "cell_type": "code",
   "execution_count": 42,
   "metadata": {},
   "outputs": [],
   "source": [
    "X_train , y_train = create_dataset(train_data , 100)\n",
    "X_test , y_test = create_dataset(test_data , 100)\n",
    "X_train = np.asarray(X_train).astype('float32')\n",
    "y_train = np.asarray(y_train).astype('float32')\n",
    "X_test = np.asarray(X_test).astype('float32')\n",
    "y_test = np.asarray(y_test).astype('float32')"
   ]
  },
  {
   "cell_type": "code",
   "execution_count": 43,
   "metadata": {},
   "outputs": [
    {
     "data": {
      "text/plain": [
       "((905, 100), (905,))"
      ]
     },
     "execution_count": 43,
     "metadata": {},
     "output_type": "execute_result"
    }
   ],
   "source": [
    "X_train.shape , y_train.shape"
   ]
  },
  {
   "cell_type": "code",
   "execution_count": 44,
   "metadata": {},
   "outputs": [],
   "source": [
    "X_train = X_train.reshape(X_train.shape[0] , X_train.shape[1] , 1)\n",
    "X_test = X_test.reshape(X_test.shape[0] , X_test.shape[1] , 1)"
   ]
  },
  {
   "cell_type": "code",
   "execution_count": 45,
   "metadata": {},
   "outputs": [],
   "source": [
    "####Creating Model\n",
    "from tensorflow.keras.models import Sequential\n",
    "from tensorflow.keras.layers import Dense\n",
    "from tensorflow.keras.layers import LSTM\n",
    "from tensorflow.keras.layers import Dropout"
   ]
  },
  {
   "cell_type": "code",
   "execution_count": 46,
   "metadata": {},
   "outputs": [],
   "source": [
    "model = Sequential()\n",
    "model.add(LSTM(50,input_shape = (100 ,1)))\n",
    "model.add(Dense(1))\n",
    "model.compile(loss = 'mean_squared_error' , optimizer = 'adam')"
   ]
  },
  {
   "cell_type": "code",
   "execution_count": 47,
   "metadata": {},
   "outputs": [
    {
     "name": "stdout",
     "output_type": "stream",
     "text": [
      "Epoch 1/100\n",
      "15/15 [==============================] - 2s 52ms/step - loss: 0.0907 - val_loss: 0.0467\n",
      "Epoch 2/100\n",
      "15/15 [==============================] - 0s 26ms/step - loss: 0.0512 - val_loss: 0.0420\n",
      "Epoch 3/100\n",
      "15/15 [==============================] - 0s 26ms/step - loss: 0.0544 - val_loss: 0.0398\n",
      "Epoch 4/100\n",
      "15/15 [==============================] - 0s 26ms/step - loss: 0.0493 - val_loss: 0.0398\n",
      "Epoch 5/100\n",
      "15/15 [==============================] - 0s 26ms/step - loss: 0.0479 - val_loss: 0.0397\n",
      "Epoch 6/100\n",
      "15/15 [==============================] - 0s 25ms/step - loss: 0.0417 - val_loss: 0.0395\n",
      "Epoch 7/100\n",
      "15/15 [==============================] - 0s 26ms/step - loss: 0.0487 - val_loss: 0.0394\n",
      "Epoch 8/100\n",
      "15/15 [==============================] - 0s 26ms/step - loss: 0.0415 - val_loss: 0.0393\n",
      "Epoch 9/100\n",
      "15/15 [==============================] - 0s 26ms/step - loss: 0.0464 - val_loss: 0.0395\n",
      "Epoch 10/100\n",
      "15/15 [==============================] - 0s 25ms/step - loss: 0.0415 - val_loss: 0.0390\n",
      "Epoch 11/100\n",
      "15/15 [==============================] - 0s 25ms/step - loss: 0.0449 - val_loss: 0.0392\n",
      "Epoch 12/100\n",
      "15/15 [==============================] - 0s 30ms/step - loss: 0.0467 - val_loss: 0.0392\n",
      "Epoch 13/100\n",
      "15/15 [==============================] - 0s 30ms/step - loss: 0.0421 - val_loss: 0.0387\n",
      "Epoch 14/100\n",
      "15/15 [==============================] - 0s 30ms/step - loss: 0.0458 - val_loss: 0.0391\n",
      "Epoch 15/100\n",
      "15/15 [==============================] - 0s 32ms/step - loss: 0.0483 - val_loss: 0.0386\n",
      "Epoch 16/100\n",
      "15/15 [==============================] - 0s 30ms/step - loss: 0.0460 - val_loss: 0.0385\n",
      "Epoch 17/100\n",
      "15/15 [==============================] - 0s 31ms/step - loss: 0.0450 - val_loss: 0.0384\n",
      "Epoch 18/100\n",
      "15/15 [==============================] - 0s 29ms/step - loss: 0.0469 - val_loss: 0.0386\n",
      "Epoch 19/100\n",
      "15/15 [==============================] - 0s 28ms/step - loss: 0.0467 - val_loss: 0.0389\n",
      "Epoch 20/100\n",
      "15/15 [==============================] - 0s 27ms/step - loss: 0.0439 - val_loss: 0.0395\n",
      "Epoch 21/100\n",
      "15/15 [==============================] - 0s 26ms/step - loss: 0.0450 - val_loss: 0.0384\n",
      "Epoch 22/100\n",
      "15/15 [==============================] - 0s 28ms/step - loss: 0.0414 - val_loss: 0.0386\n",
      "Epoch 23/100\n",
      "15/15 [==============================] - 0s 30ms/step - loss: 0.0476 - val_loss: 0.0408\n",
      "Epoch 24/100\n",
      "15/15 [==============================] - 0s 26ms/step - loss: 0.0455 - val_loss: 0.0383\n",
      "Epoch 25/100\n",
      "15/15 [==============================] - 0s 26ms/step - loss: 0.0464 - val_loss: 0.0388\n",
      "Epoch 26/100\n",
      "15/15 [==============================] - 0s 26ms/step - loss: 0.0429 - val_loss: 0.0385\n",
      "Epoch 27/100\n",
      "15/15 [==============================] - 0s 26ms/step - loss: 0.0431 - val_loss: 0.0383\n",
      "Epoch 28/100\n",
      "15/15 [==============================] - 0s 26ms/step - loss: 0.0448 - val_loss: 0.0393\n",
      "Epoch 29/100\n",
      "15/15 [==============================] - 0s 26ms/step - loss: 0.0413 - val_loss: 0.0383\n",
      "Epoch 30/100\n",
      "15/15 [==============================] - 0s 27ms/step - loss: 0.0436 - val_loss: 0.0388\n",
      "Epoch 31/100\n",
      "15/15 [==============================] - 0s 27ms/step - loss: 0.0424 - val_loss: 0.0382\n",
      "Epoch 32/100\n",
      "15/15 [==============================] - 0s 27ms/step - loss: 0.0439 - val_loss: 0.0388\n",
      "Epoch 33/100\n",
      "15/15 [==============================] - 0s 29ms/step - loss: 0.0466 - val_loss: 0.0382\n",
      "Epoch 34/100\n",
      "15/15 [==============================] - 0s 27ms/step - loss: 0.0440 - val_loss: 0.0393\n",
      "Epoch 35/100\n",
      "15/15 [==============================] - 0s 27ms/step - loss: 0.0471 - val_loss: 0.0389\n",
      "Epoch 36/100\n",
      "15/15 [==============================] - 0s 26ms/step - loss: 0.0433 - val_loss: 0.0383\n",
      "Epoch 37/100\n",
      "15/15 [==============================] - 0s 26ms/step - loss: 0.0463 - val_loss: 0.0387\n",
      "Epoch 38/100\n",
      "15/15 [==============================] - 0s 27ms/step - loss: 0.0468 - val_loss: 0.0382\n",
      "Epoch 39/100\n",
      "15/15 [==============================] - 0s 27ms/step - loss: 0.0454 - val_loss: 0.0389\n",
      "Epoch 40/100\n",
      "15/15 [==============================] - 0s 26ms/step - loss: 0.0454 - val_loss: 0.0387\n",
      "Epoch 41/100\n",
      "15/15 [==============================] - 0s 26ms/step - loss: 0.0422 - val_loss: 0.0383\n",
      "Epoch 42/100\n",
      "15/15 [==============================] - 0s 26ms/step - loss: 0.0501 - val_loss: 0.0405\n",
      "Epoch 43/100\n",
      "15/15 [==============================] - 0s 27ms/step - loss: 0.0474 - val_loss: 0.0383\n",
      "Epoch 44/100\n",
      "15/15 [==============================] - 0s 26ms/step - loss: 0.0461 - val_loss: 0.0392\n",
      "Epoch 45/100\n",
      "15/15 [==============================] - 0s 26ms/step - loss: 0.0465 - val_loss: 0.0385\n",
      "Epoch 46/100\n",
      "15/15 [==============================] - 0s 26ms/step - loss: 0.0424 - val_loss: 0.0384\n",
      "Epoch 47/100\n",
      "15/15 [==============================] - 0s 27ms/step - loss: 0.0461 - val_loss: 0.0391\n",
      "Epoch 48/100\n",
      "15/15 [==============================] - 0s 28ms/step - loss: 0.0443 - val_loss: 0.0383\n",
      "Epoch 49/100\n",
      "15/15 [==============================] - 0s 27ms/step - loss: 0.0401 - val_loss: 0.0383\n",
      "Epoch 50/100\n",
      "15/15 [==============================] - 0s 27ms/step - loss: 0.0459 - val_loss: 0.0390\n",
      "Epoch 51/100\n",
      "15/15 [==============================] - 0s 26ms/step - loss: 0.0451 - val_loss: 0.0383\n",
      "Epoch 52/100\n",
      "15/15 [==============================] - 0s 26ms/step - loss: 0.0436 - val_loss: 0.0392\n",
      "Epoch 53/100\n",
      "15/15 [==============================] - 0s 27ms/step - loss: 0.0435 - val_loss: 0.0385\n",
      "Epoch 54/100\n",
      "15/15 [==============================] - 0s 26ms/step - loss: 0.0459 - val_loss: 0.0386\n",
      "Epoch 55/100\n",
      "15/15 [==============================] - 1s 42ms/step - loss: 0.0385 - val_loss: 0.0382\n",
      "Epoch 56/100\n",
      "15/15 [==============================] - 0s 28ms/step - loss: 0.0458 - val_loss: 0.0396\n",
      "Epoch 57/100\n",
      "15/15 [==============================] - 0s 26ms/step - loss: 0.0440 - val_loss: 0.0382\n",
      "Epoch 58/100\n",
      "15/15 [==============================] - 0s 29ms/step - loss: 0.0426 - val_loss: 0.0386\n",
      "Epoch 59/100\n",
      "15/15 [==============================] - 0s 27ms/step - loss: 0.0451 - val_loss: 0.0383\n",
      "Epoch 60/100\n",
      "15/15 [==============================] - 0s 27ms/step - loss: 0.0398 - val_loss: 0.0385\n",
      "Epoch 61/100\n",
      "15/15 [==============================] - 0s 29ms/step - loss: 0.0459 - val_loss: 0.0383\n",
      "Epoch 62/100\n",
      "15/15 [==============================] - 0s 27ms/step - loss: 0.0399 - val_loss: 0.0384\n",
      "Epoch 63/100\n",
      "15/15 [==============================] - 0s 29ms/step - loss: 0.0452 - val_loss: 0.0387\n",
      "Epoch 64/100\n",
      "15/15 [==============================] - 0s 29ms/step - loss: 0.0459 - val_loss: 0.0386\n",
      "Epoch 65/100\n",
      "15/15 [==============================] - 0s 27ms/step - loss: 0.0450 - val_loss: 0.0386\n",
      "Epoch 66/100\n",
      "15/15 [==============================] - 0s 27ms/step - loss: 0.0448 - val_loss: 0.0384\n",
      "Epoch 67/100\n",
      "15/15 [==============================] - 0s 28ms/step - loss: 0.0458 - val_loss: 0.0383\n",
      "Epoch 68/100\n",
      "15/15 [==============================] - 0s 27ms/step - loss: 0.0441 - val_loss: 0.0390\n",
      "Epoch 69/100\n",
      "15/15 [==============================] - 0s 28ms/step - loss: 0.0429 - val_loss: 0.0383\n",
      "Epoch 70/100\n",
      "15/15 [==============================] - 0s 27ms/step - loss: 0.0441 - val_loss: 0.0385\n",
      "Epoch 71/100\n",
      "15/15 [==============================] - 0s 26ms/step - loss: 0.0394 - val_loss: 0.0382\n",
      "Epoch 72/100\n",
      "15/15 [==============================] - 0s 28ms/step - loss: 0.0438 - val_loss: 0.0395\n",
      "Epoch 73/100\n",
      "15/15 [==============================] - 0s 27ms/step - loss: 0.0436 - val_loss: 0.0382\n",
      "Epoch 74/100\n",
      "15/15 [==============================] - 0s 27ms/step - loss: 0.0398 - val_loss: 0.0382\n",
      "Epoch 75/100\n",
      "15/15 [==============================] - 0s 26ms/step - loss: 0.0412 - val_loss: 0.0389\n",
      "Epoch 76/100\n",
      "15/15 [==============================] - 0s 26ms/step - loss: 0.0412 - val_loss: 0.0382\n",
      "Epoch 77/100\n",
      "15/15 [==============================] - 0s 28ms/step - loss: 0.0429 - val_loss: 0.0385\n",
      "Epoch 78/100\n",
      "15/15 [==============================] - 0s 28ms/step - loss: 0.0428 - val_loss: 0.0381\n",
      "Epoch 79/100\n",
      "15/15 [==============================] - 0s 28ms/step - loss: 0.0440 - val_loss: 0.0386\n",
      "Epoch 80/100\n",
      "15/15 [==============================] - 0s 27ms/step - loss: 0.0428 - val_loss: 0.0381\n",
      "Epoch 81/100\n",
      "15/15 [==============================] - 0s 28ms/step - loss: 0.0454 - val_loss: 0.0390\n",
      "Epoch 82/100\n"
     ]
    },
    {
     "name": "stdout",
     "output_type": "stream",
     "text": [
      "15/15 [==============================] - 0s 29ms/step - loss: 0.0459 - val_loss: 0.0385\n",
      "Epoch 83/100\n",
      "15/15 [==============================] - 0s 29ms/step - loss: 0.0461 - val_loss: 0.0383\n",
      "Epoch 84/100\n",
      "15/15 [==============================] - 0s 28ms/step - loss: 0.0414 - val_loss: 0.0386\n",
      "Epoch 85/100\n",
      "15/15 [==============================] - 0s 27ms/step - loss: 0.0431 - val_loss: 0.0386\n",
      "Epoch 86/100\n",
      "15/15 [==============================] - 0s 27ms/step - loss: 0.0438 - val_loss: 0.0383\n",
      "Epoch 87/100\n",
      "15/15 [==============================] - 0s 27ms/step - loss: 0.0431 - val_loss: 0.0399\n",
      "Epoch 88/100\n",
      "15/15 [==============================] - 0s 34ms/step - loss: 0.0479 - val_loss: 0.0381\n",
      "Epoch 89/100\n",
      "15/15 [==============================] - 1s 37ms/step - loss: 0.0445 - val_loss: 0.0391\n",
      "Epoch 90/100\n",
      "15/15 [==============================] - 0s 33ms/step - loss: 0.0445 - val_loss: 0.0382\n",
      "Epoch 91/100\n",
      "15/15 [==============================] - 1s 42ms/step - loss: 0.0444 - val_loss: 0.0385\n",
      "Epoch 92/100\n",
      "15/15 [==============================] - 1s 36ms/step - loss: 0.0462 - val_loss: 0.0385\n",
      "Epoch 93/100\n",
      "15/15 [==============================] - 1s 36ms/step - loss: 0.0457 - val_loss: 0.0384\n",
      "Epoch 94/100\n",
      "15/15 [==============================] - 1s 35ms/step - loss: 0.0450 - val_loss: 0.0382\n",
      "Epoch 95/100\n",
      "15/15 [==============================] - 1s 40ms/step - loss: 0.0415 - val_loss: 0.0385\n",
      "Epoch 96/100\n",
      "15/15 [==============================] - 1s 41ms/step - loss: 0.0417 - val_loss: 0.0384\n",
      "Epoch 97/100\n",
      "15/15 [==============================] - 1s 37ms/step - loss: 0.0455 - val_loss: 0.0390\n",
      "Epoch 98/100\n",
      "15/15 [==============================] - 1s 36ms/step - loss: 0.0444 - val_loss: 0.0382\n",
      "Epoch 99/100\n",
      "15/15 [==============================] - 1s 41ms/step - loss: 0.0459 - val_loss: 0.0388\n",
      "Epoch 100/100\n",
      "15/15 [==============================] - 1s 37ms/step - loss: 0.0454 - val_loss: 0.0385\n"
     ]
    },
    {
     "data": {
      "text/plain": [
       "<tensorflow.python.keras.callbacks.History at 0x7fc505a13670>"
      ]
     },
     "execution_count": 47,
     "metadata": {},
     "output_type": "execute_result"
    }
   ],
   "source": [
    "model.fit(X_train , y_train , validation_data = (X_test , y_test) , epochs = 100 , batch_size = 64 , verbose = 1)      "
   ]
  },
  {
   "cell_type": "code",
   "execution_count": 91,
   "metadata": {},
   "outputs": [],
   "source": [
    "###Prediction And Accuracy\n",
    "train_predict = model.predict(X_train)\n",
    "test_predict = model.predict(X_test)"
   ]
  },
  {
   "cell_type": "code",
   "execution_count": 53,
   "metadata": {},
   "outputs": [],
   "source": [
    "from sklearn.metrics import mean_squared_error\n",
    "import math"
   ]
  },
  {
   "cell_type": "code",
   "execution_count": 55,
   "metadata": {},
   "outputs": [
    {
     "data": {
      "text/plain": [
       "0.2105731731828072"
      ]
     },
     "execution_count": 55,
     "metadata": {},
     "output_type": "execute_result"
    }
   ],
   "source": [
    "math.sqrt(mean_squared_error(train_predict , y_train))"
   ]
  },
  {
   "cell_type": "code",
   "execution_count": 56,
   "metadata": {},
   "outputs": [
    {
     "data": {
      "text/plain": [
       "0.19611897857204352"
      ]
     },
     "execution_count": 56,
     "metadata": {},
     "output_type": "execute_result"
    }
   ],
   "source": [
    "math.sqrt(mean_squared_error(test_predict , y_test))"
   ]
  },
  {
   "cell_type": "code",
   "execution_count": null,
   "metadata": {},
   "outputs": [],
   "source": []
  },
  {
   "cell_type": "code",
   "execution_count": null,
   "metadata": {},
   "outputs": [],
   "source": []
  },
  {
   "cell_type": "code",
   "execution_count": null,
   "metadata": {},
   "outputs": [],
   "source": []
  },
  {
   "cell_type": "code",
   "execution_count": null,
   "metadata": {},
   "outputs": [],
   "source": []
  },
  {
   "cell_type": "code",
   "execution_count": null,
   "metadata": {},
   "outputs": [],
   "source": []
  },
  {
   "cell_type": "code",
   "execution_count": null,
   "metadata": {},
   "outputs": [],
   "source": []
  }
 ],
 "metadata": {
  "kernelspec": {
   "display_name": "Python 3",
   "language": "python",
   "name": "python3"
  },
  "language_info": {
   "codemirror_mode": {
    "name": "ipython",
    "version": 3
   },
   "file_extension": ".py",
   "mimetype": "text/x-python",
   "name": "python",
   "nbconvert_exporter": "python",
   "pygments_lexer": "ipython3",
   "version": "3.8.5"
  }
 },
 "nbformat": 4,
 "nbformat_minor": 4
}
